{
 "cells": [
  {
   "cell_type": "code",
   "execution_count": 1,
   "id": "f147563e",
   "metadata": {
    "execution": {
     "iopub.execute_input": "2021-07-18T00:19:50.231752Z",
     "iopub.status.busy": "2021-07-18T00:19:50.230389Z",
     "iopub.status.idle": "2021-07-18T00:19:50.244831Z",
     "shell.execute_reply": "2021-07-18T00:19:50.245646Z",
     "shell.execute_reply.started": "2021-07-18T00:14:31.903374Z"
    },
    "papermill": {
     "duration": 0.038376,
     "end_time": "2021-07-18T00:19:50.246119",
     "exception": false,
     "start_time": "2021-07-18T00:19:50.207743",
     "status": "completed"
    },
    "tags": []
   },
   "outputs": [],
   "source": [
    "#Required Libraries\n",
    "import numpy as np  \n",
    "import pandas as pd"
   ]
  },
  {
   "cell_type": "code",
   "execution_count": 2,
   "id": "abf7efd1",
   "metadata": {
    "execution": {
     "iopub.execute_input": "2021-07-18T00:19:50.300414Z",
     "iopub.status.busy": "2021-07-18T00:19:50.297831Z",
     "iopub.status.idle": "2021-07-18T00:19:50.423672Z",
     "shell.execute_reply": "2021-07-18T00:19:50.424245Z",
     "shell.execute_reply.started": "2021-07-18T00:16:12.441494Z"
    },
    "papermill": {
     "duration": 0.154106,
     "end_time": "2021-07-18T00:19:50.424493",
     "exception": false,
     "start_time": "2021-07-18T00:19:50.270387",
     "status": "completed"
    },
    "tags": []
   },
   "outputs": [],
   "source": [
    "#Read dataset\n",
    "\n",
    "data = pd.read_csv('/kaggle/input/predictcarprice/cars.csv')"
   ]
  },
  {
   "cell_type": "code",
   "execution_count": 3,
   "id": "32df5772",
   "metadata": {
    "execution": {
     "iopub.execute_input": "2021-07-18T00:19:50.459354Z",
     "iopub.status.busy": "2021-07-18T00:19:50.458688Z",
     "iopub.status.idle": "2021-07-18T00:19:50.487406Z",
     "shell.execute_reply": "2021-07-18T00:19:50.486666Z",
     "shell.execute_reply.started": "2021-07-18T00:16:44.650837Z"
    },
    "papermill": {
     "duration": 0.047283,
     "end_time": "2021-07-18T00:19:50.487580",
     "exception": false,
     "start_time": "2021-07-18T00:19:50.440297",
     "status": "completed"
    },
    "tags": []
   },
   "outputs": [
    {
     "data": {
      "text/html": [
       "<div>\n",
       "<style scoped>\n",
       "    .dataframe tbody tr th:only-of-type {\n",
       "        vertical-align: middle;\n",
       "    }\n",
       "\n",
       "    .dataframe tbody tr th {\n",
       "        vertical-align: top;\n",
       "    }\n",
       "\n",
       "    .dataframe thead th {\n",
       "        text-align: right;\n",
       "    }\n",
       "</style>\n",
       "<table border=\"1\" class=\"dataframe\">\n",
       "  <thead>\n",
       "    <tr style=\"text-align: right;\">\n",
       "      <th></th>\n",
       "      <th>enginesize</th>\n",
       "      <th>carlength</th>\n",
       "      <th>carwidth</th>\n",
       "      <th>carheight</th>\n",
       "      <th>price</th>\n",
       "    </tr>\n",
       "  </thead>\n",
       "  <tbody>\n",
       "    <tr>\n",
       "      <th>0</th>\n",
       "      <td>130</td>\n",
       "      <td>168.8</td>\n",
       "      <td>64.1</td>\n",
       "      <td>48.8</td>\n",
       "      <td>13495</td>\n",
       "    </tr>\n",
       "    <tr>\n",
       "      <th>1</th>\n",
       "      <td>130</td>\n",
       "      <td>168.8</td>\n",
       "      <td>64.1</td>\n",
       "      <td>48.8</td>\n",
       "      <td>16500</td>\n",
       "    </tr>\n",
       "    <tr>\n",
       "      <th>2</th>\n",
       "      <td>152</td>\n",
       "      <td>171.2</td>\n",
       "      <td>65.5</td>\n",
       "      <td>52.4</td>\n",
       "      <td>16500</td>\n",
       "    </tr>\n",
       "    <tr>\n",
       "      <th>3</th>\n",
       "      <td>109</td>\n",
       "      <td>176.6</td>\n",
       "      <td>66.2</td>\n",
       "      <td>54.3</td>\n",
       "      <td>13950</td>\n",
       "    </tr>\n",
       "    <tr>\n",
       "      <th>4</th>\n",
       "      <td>136</td>\n",
       "      <td>176.6</td>\n",
       "      <td>66.4</td>\n",
       "      <td>54.3</td>\n",
       "      <td>17450</td>\n",
       "    </tr>\n",
       "  </tbody>\n",
       "</table>\n",
       "</div>"
      ],
      "text/plain": [
       "   enginesize  carlength  carwidth  carheight  price\n",
       "0         130      168.8      64.1       48.8  13495\n",
       "1         130      168.8      64.1       48.8  16500\n",
       "2         152      171.2      65.5       52.4  16500\n",
       "3         109      176.6      66.2       54.3  13950\n",
       "4         136      176.6      66.4       54.3  17450"
      ]
     },
     "execution_count": 3,
     "metadata": {},
     "output_type": "execute_result"
    }
   ],
   "source": [
    "data.head()"
   ]
  },
  {
   "cell_type": "code",
   "execution_count": 4,
   "id": "ac3b2214",
   "metadata": {
    "execution": {
     "iopub.execute_input": "2021-07-18T00:19:50.525731Z",
     "iopub.status.busy": "2021-07-18T00:19:50.524826Z",
     "iopub.status.idle": "2021-07-18T00:19:50.528647Z",
     "shell.execute_reply": "2021-07-18T00:19:50.529179Z",
     "shell.execute_reply.started": "2021-07-18T00:16:50.251770Z"
    },
    "papermill": {
     "duration": 0.025677,
     "end_time": "2021-07-18T00:19:50.529374",
     "exception": false,
     "start_time": "2021-07-18T00:19:50.503697",
     "status": "completed"
    },
    "tags": []
   },
   "outputs": [
    {
     "data": {
      "text/plain": [
       "(99, 5)"
      ]
     },
     "execution_count": 4,
     "metadata": {},
     "output_type": "execute_result"
    }
   ],
   "source": [
    "data.shape"
   ]
  },
  {
   "cell_type": "code",
   "execution_count": 5,
   "id": "b43caebd",
   "metadata": {
    "execution": {
     "iopub.execute_input": "2021-07-18T00:19:50.565952Z",
     "iopub.status.busy": "2021-07-18T00:19:50.564937Z",
     "iopub.status.idle": "2021-07-18T00:19:50.576414Z",
     "shell.execute_reply": "2021-07-18T00:19:50.577022Z",
     "shell.execute_reply.started": "2021-07-18T00:16:54.378154Z"
    },
    "papermill": {
     "duration": 0.031474,
     "end_time": "2021-07-18T00:19:50.577263",
     "exception": false,
     "start_time": "2021-07-18T00:19:50.545789",
     "status": "completed"
    },
    "tags": []
   },
   "outputs": [
    {
     "name": "stdout",
     "output_type": "stream",
     "text": [
      "(99, 2)\n",
      "(99,)\n"
     ]
    }
   ],
   "source": [
    "#Grab features and label from dataframe\n",
    "x = data[['enginesize', 'carheight']].values\n",
    "y = data['price'].values\n",
    "\n",
    "print(x.shape)\n",
    "print(y.shape)"
   ]
  },
  {
   "attachments": {
    "normal%20equa.png": {
     "image/png": "[encoded data removed]"
    }
   },
   "cell_type": "markdown",
   "id": "613c53b2",
   "metadata": {
    "papermill": {
     "duration": 0.016324,
     "end_time": "2021-07-18T00:19:50.610342",
     "exception": false,
     "start_time": "2021-07-18T00:19:50.594018",
     "status": "completed"
    },
    "tags": []
   },
   "source": [
    "Normal Equation\n",
    "    <p>\n",
    "    \n",
    "![normal%20equa.png](attachment:normal%20equa.png)"
   ]
  },
  {
   "cell_type": "code",
   "execution_count": 6,
   "id": "aa6f7e38",
   "metadata": {
    "execution": {
     "iopub.execute_input": "2021-07-18T00:19:50.653598Z",
     "iopub.status.busy": "2021-07-18T00:19:50.652860Z",
     "iopub.status.idle": "2021-07-18T00:19:50.662421Z",
     "shell.execute_reply": "2021-07-18T00:19:50.661788Z",
     "shell.execute_reply.started": "2021-07-18T00:17:51.813321Z"
    },
    "papermill": {
     "duration": 0.034891,
     "end_time": "2021-07-18T00:19:50.662587",
     "exception": false,
     "start_time": "2021-07-18T00:19:50.627696",
     "status": "completed"
    },
    "tags": []
   },
   "outputs": [],
   "source": [
    "#Bulding a class for Linear Regression Using Gradient Descent.\n",
    "\n",
    "class LinearRegression:\n",
    "    \n",
    "    def __init__(self, l_rate=0.001, iterations=1000):  #assign values for hyper-parameters\n",
    "        self.l_rate = l_rate  #learning rate\n",
    "        self.iterations = iterations  #number of iterations\n",
    "\n",
    "    def fitGD(self, x, y):  #Fit the training data using Gradient Descent\n",
    "        self.cost = []  # An empty list to store the error in each iteration\n",
    "        self.theta = np.zeros((1 + x.shape[1]))  #intitalization,,,Array of zeros , shape= columns + 1  (3,1)\n",
    "        n = x.shape[0]  #number of training examples 99\n",
    "        \n",
    "        for i in range(self.iterations):\n",
    "            y_pred = self.theta[0] + np.dot(x, self.theta[1:])  # hypothesis h(x).. x=(99,2), theta[1:]=(2,1)\n",
    "            mse = (1/n) * np.sum((y_pred - y)**2)  #compute the cost function J(theta) using mse\n",
    "            self.cost.append(mse)  #tracking \n",
    "            \n",
    "            #Derivatives\n",
    "            d_theta1 = (2/n) * np.dot(x.T, (y_pred - y)) # x.T=(2,99)... (y_pred - y)=(99,1)\n",
    "            d_theta0 = (2/n) * np.sum(y_pred - y)\n",
    "            \n",
    "            #Values update\n",
    "            self.theta[1:] = self.theta[1:] - self.l_rate * d_theta1\n",
    "            self.theta[0] = self.theta[0] - self.l_rate * d_theta0                       \n",
    "        return self\n",
    "    \n",
    "    \n",
    "    def predictGD(self, x):  #Predicts the value after the model has been trained/Gradient Descent.\n",
    "        return self.theta[0] + np.dot(x, self.theta[1:])\n",
    "    \n",
    "    \n",
    "    def fitNQ(self,x, y):  #Fit the training data using Normal Equation\n",
    "        z = np.ones((x.shape[0],1))  #Array of ones , shape= rows, one cloumn (99,1)\n",
    "        x = np.append(z, x, axis=1)  #Array, its 1st cloumn contains ones, other columns contains features x (99,3)\n",
    "        self.thetas = np.linalg.pinv(x.T.dot(x)).dot(x.T).dot(y) # normal equation,, use pinv() in case of non invertible matrix\n",
    "  \n",
    "        return self   \n",
    "\n",
    "    def predictNQ(self, x):  #Predicts the value after the model has been trained/Normal Equation.\n",
    "        z = np.ones((x.shape[0],1))  #Array of ones , shape= rows, one cloumn (99,1)\n",
    "        x = np.append(z, x, axis=1)  #Array, its 1st cloumn contains ones, other columns contains features x (99,3)\n",
    "        return np.dot(x, self.thetas)  #Linear equation"
   ]
  },
  {
   "attachments": {
    "zscore.png": {
     "image/png": "[encoded data removed]"
    }
   },
   "cell_type": "markdown",
   "id": "783cdb51",
   "metadata": {
    "papermill": {
     "duration": 0.015924,
     "end_time": "2021-07-18T00:19:50.695047",
     "exception": false,
     "start_time": "2021-07-18T00:19:50.679123",
     "status": "completed"
    },
    "tags": []
   },
   "source": [
    "![zscore.png](attachment:zscore.png)"
   ]
  },
  {
   "cell_type": "code",
   "execution_count": 7,
   "id": "2a92b799",
   "metadata": {
    "execution": {
     "iopub.execute_input": "2021-07-18T00:19:50.733518Z",
     "iopub.status.busy": "2021-07-18T00:19:50.732798Z",
     "iopub.status.idle": "2021-07-18T00:19:50.734755Z",
     "shell.execute_reply": "2021-07-18T00:19:50.735285Z",
     "shell.execute_reply.started": "2021-07-18T00:17:59.780497Z"
    },
    "papermill": {
     "duration": 0.023986,
     "end_time": "2021-07-18T00:19:50.735490",
     "exception": false,
     "start_time": "2021-07-18T00:19:50.711504",
     "status": "completed"
    },
    "tags": []
   },
   "outputs": [],
   "source": [
    "#features scaling using z-score\n",
    "def scale(x):\n",
    "    x_scaled = x - np.mean(x, axis=0)\n",
    "    x_scaled = x_scaled / np.std(x_scaled, axis=0)\n",
    "    return x_scaled"
   ]
  },
  {
   "cell_type": "code",
   "execution_count": 8,
   "id": "ddf9c6f4",
   "metadata": {
    "execution": {
     "iopub.execute_input": "2021-07-18T00:19:50.773284Z",
     "iopub.status.busy": "2021-07-18T00:19:50.772595Z",
     "iopub.status.idle": "2021-07-18T00:19:50.838604Z",
     "shell.execute_reply": "2021-07-18T00:19:50.839194Z",
     "shell.execute_reply.started": "2021-07-18T00:18:04.556765Z"
    },
    "papermill": {
     "duration": 0.086049,
     "end_time": "2021-07-18T00:19:50.839397",
     "exception": false,
     "start_time": "2021-07-18T00:19:50.753348",
     "status": "completed"
    },
    "tags": []
   },
   "outputs": [
    {
     "data": {
      "text/plain": [
       "<__main__.LinearRegression at 0x7f24f0976d10>"
      ]
     },
     "execution_count": 8,
     "metadata": {},
     "output_type": "execute_result"
    }
   ],
   "source": [
    "x_sd= scale(x)  #call the function scale()\n",
    "\n",
    "lr = LinearRegression()  # creating object lr using the class LinearRegression()\n",
    "lr.fitGD(x_sd, y)  #call the method fitGD()\n",
    "lr.fitNQ(x, y)  #call the method fitNQ()"
   ]
  },
  {
   "cell_type": "code",
   "execution_count": 9,
   "id": "24ddf329",
   "metadata": {
    "execution": {
     "iopub.execute_input": "2021-07-18T00:19:50.877818Z",
     "iopub.status.busy": "2021-07-18T00:19:50.877174Z",
     "iopub.status.idle": "2021-07-18T00:19:50.884579Z",
     "shell.execute_reply": "2021-07-18T00:19:50.883776Z",
     "shell.execute_reply.started": "2021-07-18T00:18:07.484945Z"
    },
    "papermill": {
     "duration": 0.027622,
     "end_time": "2021-07-18T00:19:50.884729",
     "exception": false,
     "start_time": "2021-07-18T00:19:50.857107",
     "status": "completed"
    },
    "tags": []
   },
   "outputs": [
    {
     "name": "stdout",
     "output_type": "stream",
     "text": [
      "theta_0=  12007.838077818737\n",
      "theta_1=  7378.449674762259\n",
      "theta_2=  1208.9169319699492\n"
     ]
    }
   ],
   "source": [
    "# print theta 0, 1, 2\n",
    "print(\"theta_0= \", lr.theta[0])\n",
    "print(\"theta_1= \", lr.theta[1])\n",
    "print(\"theta_2= \", lr.theta[2])"
   ]
  },
  {
   "cell_type": "code",
   "execution_count": 10,
   "id": "b701e858",
   "metadata": {
    "execution": {
     "iopub.execute_input": "2021-07-18T00:19:50.924278Z",
     "iopub.status.busy": "2021-07-18T00:19:50.923452Z",
     "iopub.status.idle": "2021-07-18T00:19:50.928067Z",
     "shell.execute_reply": "2021-07-18T00:19:50.927441Z",
     "shell.execute_reply.started": "2021-07-18T00:18:11.013131Z"
    },
    "papermill": {
     "duration": 0.026696,
     "end_time": "2021-07-18T00:19:50.928200",
     "exception": false,
     "start_time": "2021-07-18T00:19:50.901504",
     "status": "completed"
    },
    "tags": []
   },
   "outputs": [
    {
     "name": "stdout",
     "output_type": "stream",
     "text": [
      "theta_0=  -25593.79925778849\n",
      "theta_1=  165.83734503864633\n",
      "theta_2=  346.6014627985526\n"
     ]
    }
   ],
   "source": [
    "# print theta 0, 1, 2\n",
    "print(\"theta_0= \", lr.thetas[0])\n",
    "print(\"theta_1= \", lr.thetas[1])\n",
    "print(\"theta_2= \", lr.thetas[2])"
   ]
  },
  {
   "cell_type": "code",
   "execution_count": 11,
   "id": "0c44d726",
   "metadata": {
    "execution": {
     "iopub.execute_input": "2021-07-18T00:19:50.968216Z",
     "iopub.status.busy": "2021-07-18T00:19:50.967273Z",
     "iopub.status.idle": "2021-07-18T00:19:50.970459Z",
     "shell.execute_reply": "2021-07-18T00:19:50.970942Z",
     "shell.execute_reply.started": "2021-07-18T00:18:14.411428Z"
    },
    "papermill": {
     "duration": 0.026146,
     "end_time": "2021-07-18T00:19:50.971116",
     "exception": false,
     "start_time": "2021-07-18T00:19:50.944970",
     "status": "completed"
    },
    "tags": []
   },
   "outputs": [],
   "source": [
    "y_pred = lr.predictGD(x_sd) #predict training examples using Gradient Descent.\n",
    "y_predNQ = lr.predictNQ(x)  #predict training examples using Normal Equation."
   ]
  },
  {
   "attachments": {
    "adjuste%20r2.png": {
     "image/png": "[encoded data removed]"
    },
    "r2.png": {
     "image/png": "[encoded data removed]"
    }
   },
   "cell_type": "markdown",
   "id": "d0a851f0",
   "metadata": {
    "papermill": {
     "duration": 0.016824,
     "end_time": "2021-07-18T00:19:51.005239",
     "exception": false,
     "start_time": "2021-07-18T00:19:50.988415",
     "status": "completed"
    },
    "tags": []
   },
   "source": [
    "![r2.png](attachment:r2.png)\n",
    "\n",
    "![adjuste%20r2.png](attachment:adjuste%20r2.png)"
   ]
  },
  {
   "cell_type": "code",
   "execution_count": 12,
   "id": "51657df4",
   "metadata": {
    "execution": {
     "iopub.execute_input": "2021-07-18T00:19:51.047224Z",
     "iopub.status.busy": "2021-07-18T00:19:51.046512Z",
     "iopub.status.idle": "2021-07-18T00:19:51.051166Z",
     "shell.execute_reply": "2021-07-18T00:19:51.050565Z",
     "shell.execute_reply.started": "2021-07-18T00:18:18.675563Z"
    },
    "papermill": {
     "duration": 0.02887,
     "end_time": "2021-07-18T00:19:51.051331",
     "exception": false,
     "start_time": "2021-07-18T00:19:51.022461",
     "status": "completed"
    },
    "tags": []
   },
   "outputs": [
    {
     "name": "stdout",
     "output_type": "stream",
     "text": [
      "0.7833948201180297\n"
     ]
    }
   ],
   "source": [
    "#Evaluate Training GDModel using adjusted R squared\n",
    "errors = np.sum((y_pred - y)**2)\n",
    "sst = np.sum((y - np.mean(y))**2)\n",
    "r2_GD = 1 - (errors/sst)\n",
    "\n",
    "adusted_r2_GD= 1-((1-r2_GD) * (x.shape[0] -1)/(x.shape[0] - x.shape[1] - 1))\n",
    "print (adusted_r2_GD)"
   ]
  },
  {
   "cell_type": "code",
   "execution_count": 13,
   "id": "a45d3a59",
   "metadata": {
    "execution": {
     "iopub.execute_input": "2021-07-18T00:19:51.094775Z",
     "iopub.status.busy": "2021-07-18T00:19:51.093923Z",
     "iopub.status.idle": "2021-07-18T00:19:51.098321Z",
     "shell.execute_reply": "2021-07-18T00:19:51.097756Z",
     "shell.execute_reply.started": "2021-07-18T00:18:30.220456Z"
    },
    "papermill": {
     "duration": 0.029013,
     "end_time": "2021-07-18T00:19:51.098476",
     "exception": false,
     "start_time": "2021-07-18T00:19:51.069463",
     "status": "completed"
    },
    "scrolled": true,
    "tags": []
   },
   "outputs": [
    {
     "name": "stdout",
     "output_type": "stream",
     "text": [
      "0.838274550825138\n"
     ]
    }
   ],
   "source": [
    "#Evaluate Training NQModel using adjusted R squared\n",
    "errors = np.sum((y_predNQ - y)**2)\n",
    "sst = np.sum((y - np.mean(y))**2)\n",
    "r2_NQ = 1 - (errors/sst)\n",
    "\n",
    "adusted_r2_NQ= 1-((1-r2_NQ) * (x.shape[0] -1)/(x.shape[0] - x.shape[1] - 1))\n",
    "print (adusted_r2_NQ)"
   ]
  },
  {
   "cell_type": "code",
   "execution_count": null,
   "id": "c43052df",
   "metadata": {
    "papermill": {
     "duration": 0.018452,
     "end_time": "2021-07-18T00:19:51.135014",
     "exception": false,
     "start_time": "2021-07-18T00:19:51.116562",
     "status": "completed"
    },
    "tags": []
   },
   "outputs": [],
   "source": []
  }
 ],
 "metadata": {
  "kernelspec": {
   "display_name": "Python 3",
   "language": "python",
   "name": "python3"
  },
  "language_info": {
   "codemirror_mode": {
    "name": "ipython",
    "version": 3
   },
   "file_extension": ".py",
   "mimetype": "text/x-python",
   "name": "python",
   "nbconvert_exporter": "python",
   "pygments_lexer": "ipython3",
   "version": "3.7.10"
  },
  "papermill": {
   "default_parameters": {},
   "duration": 10.869628,
   "end_time": "2021-07-18T00:19:52.546778",
   "environment_variables": {},
   "exception": null,
   "input_path": "__notebook__.ipynb",
   "output_path": "__notebook__.ipynb",
   "parameters": {},
   "start_time": "2021-07-18T00:19:41.677150",
   "version": "2.3.3"
  }
 },
 "nbformat": 4,
 "nbformat_minor": 5
}
