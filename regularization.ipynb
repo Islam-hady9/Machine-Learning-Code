{
 "cells": [
  {
   "cell_type": "code",
   "execution_count": 1,
   "id": "a93fed4a",
   "metadata": {
    "execution": {
     "iopub.execute_input": "2021-08-06T20:04:17.452359Z",
     "iopub.status.busy": "2021-08-06T20:04:17.451199Z",
     "iopub.status.idle": "2021-08-06T20:04:17.461862Z",
     "shell.execute_reply": "2021-08-06T20:04:17.462414Z",
     "shell.execute_reply.started": "2021-08-06T20:02:00.478438Z"
    },
    "papermill": {
     "duration": 0.025431,
     "end_time": "2021-08-06T20:04:17.462727",
     "exception": false,
     "start_time": "2021-08-06T20:04:17.437296",
     "status": "completed"
    },
    "tags": []
   },
   "outputs": [],
   "source": [
    "import numpy as np\n",
    "import pandas as pd\n",
    "import matplotlib.pyplot as plt"
   ]
  },
  {
   "cell_type": "code",
   "execution_count": 2,
   "id": "32e1e7a9",
   "metadata": {
    "execution": {
     "iopub.execute_input": "2021-08-06T20:04:17.483283Z",
     "iopub.status.busy": "2021-08-06T20:04:17.482485Z",
     "iopub.status.idle": "2021-08-06T20:04:17.791835Z",
     "shell.execute_reply": "2021-08-06T20:04:17.791136Z",
     "shell.execute_reply.started": "2021-08-06T20:02:03.246989Z"
    },
    "papermill": {
     "duration": 0.320198,
     "end_time": "2021-08-06T20:04:17.791994",
     "exception": false,
     "start_time": "2021-08-06T20:04:17.471796",
     "status": "completed"
    },
    "tags": []
   },
   "outputs": [
    {
     "data": {
      "image/png": "[encoded data removed]",
      "text/plain": [
       "<Figure size 720x432 with 1 Axes>"
      ]
     },
     "metadata": {
      "needs_background": "light"
     },
     "output_type": "display_data"
    }
   ],
   "source": [
    "#create dataset\n",
    "x_train = np.array([1, 1.5, 2, 3, 4, 5, 6, 7, 8, 9])\n",
    "y_train = np.array([3, 3.5, 4.5, 6, 6.5, 6.8, 6.9, 7, 7, 7])\n",
    "\n",
    "x_test = np.array([1, 2.5, 4.5, 5.5, 7, 8])\n",
    "y_test = np.array([3.2, 4.5, 5, 7, 8, 7.7])\n",
    "\n",
    "plt.figure(figsize=(10, 6))\n",
    "plt.scatter(x_train,y_train)\n",
    "plt.scatter(x_test,y_test)\n",
    "plt.show()"
   ]
  },
  {
   "cell_type": "code",
   "execution_count": 3,
   "id": "7968d922",
   "metadata": {
    "execution": {
     "iopub.execute_input": "2021-08-06T20:04:17.816356Z",
     "iopub.status.busy": "2021-08-06T20:04:17.815539Z",
     "iopub.status.idle": "2021-08-06T20:04:17.817698Z",
     "shell.execute_reply": "2021-08-06T20:04:17.818155Z",
     "shell.execute_reply.started": "2021-08-06T20:02:10.551563Z"
    },
    "papermill": {
     "duration": 0.016814,
     "end_time": "2021-08-06T20:04:17.818339",
     "exception": false,
     "start_time": "2021-08-06T20:04:17.801525",
     "status": "completed"
    },
    "tags": []
   },
   "outputs": [],
   "source": [
    "x_train = x_train.reshape(-1,1) #convert into a column vector\n",
    "x_test= x_test.reshape(-1,1) #convert into a column vector"
   ]
  },
  {
   "attachments": {
    "ridge.png": {
     "image/png": "[encoded data removed]"
    }
   },
   "cell_type": "markdown",
   "id": "177fb4b8",
   "metadata": {
    "papermill": {
     "duration": 0.009019,
     "end_time": "2021-08-06T20:04:17.836665",
     "exception": false,
     "start_time": "2021-08-06T20:04:17.827646",
     "status": "completed"
    },
    "tags": []
   },
   "source": [
    "![ridge.png](attachment:ridge.png)"
   ]
  },
  {
   "cell_type": "code",
   "execution_count": 4,
   "id": "f0b177eb",
   "metadata": {
    "execution": {
     "iopub.execute_input": "2021-08-06T20:04:17.871375Z",
     "iopub.status.busy": "2021-08-06T20:04:17.870670Z",
     "iopub.status.idle": "2021-08-06T20:04:17.873340Z",
     "shell.execute_reply": "2021-08-06T20:04:17.872807Z",
     "shell.execute_reply.started": "2021-08-06T20:02:23.655562Z"
    },
    "papermill": {
     "duration": 0.027831,
     "end_time": "2021-08-06T20:04:17.873520",
     "exception": false,
     "start_time": "2021-08-06T20:04:17.845689",
     "status": "completed"
    },
    "tags": []
   },
   "outputs": [],
   "source": [
    "#Bulding a class for Polynomial Linear Regression Using Gradient Descent.\n",
    "class PolyLinearRegression:\n",
    "    \n",
    "    def __init__(self, l_rate=0.001, iterations=10000, degree=2, lambda_value =0.2):  \n",
    "        self.l_rate = l_rate  \n",
    "        self.iterations = iterations  \n",
    "        self.degree = degree  #degree of polynomial features\n",
    "        self.lambda_value= lambda_value\n",
    "    \n",
    "    def scale(self, x):  #features scaling using z-score\n",
    "        x_scaled = x - np.mean(x, axis=0)\n",
    "        x_scaled = x_scaled / np.std(x_scaled, axis=0)\n",
    "        return x_scaled\n",
    "      \n",
    "    def transformer(self, x ): #Transform data to polynomial features\n",
    "        self.n = x.shape[0]  #number of training examples\n",
    "        \n",
    "        x_transformed = np.empty((self.n, 0))  #empty 2d-array\n",
    "        \n",
    "        for j in range( self.degree + 1 ) :\n",
    "            if j != 0 :\n",
    "                x_power = np.power( x, j )  #compute x to the power j\n",
    "                x_transformed = np.append( x_transformed, x_power, axis = 1 ) #fill the aary with x_power as column vectors\n",
    "        return x_transformed \n",
    "\n",
    "    def fit(self, x, y):  \n",
    "        self.cost = []  \n",
    "        self.theta = np.zeros((1 + self.degree)) # 1d array\n",
    "        \n",
    "        x = self.scale(x)  #preprocessing step 1\n",
    "        x_p = self.transformer(x)  ##preprocessing step 2\n",
    "        \n",
    "        for i in range(self.iterations):\n",
    "            y_pred = self.theta[0] + np.dot(x_p, self.theta[1:])\n",
    "            l2 = self.lambda_value * np.sum(np.square(self.theta[1:]))\n",
    "            mse = (1/self.n) * np.sum((y_pred - y)**2)+l2  \n",
    "            self.cost.append(mse)  \n",
    "            \n",
    "            #Derivatives\n",
    "            d_theta1 = (2/self.n) * np.dot(x_p.T, (y_pred - y)) - l2\n",
    "            d_theta0 = (2/self.n) * np.sum(y_pred - y)\n",
    "            \n",
    "            #Values update\n",
    "            self.theta[1:] = self.theta[1:] - self.l_rate * d_theta1\n",
    "            self.theta[0] = self.theta[0] - self.l_rate * d_theta0                       \n",
    "        return self\n",
    "    \n",
    "    \n",
    "    def predict(self, x):  \n",
    "        \n",
    "        x = self.scale(x)  #preprocessing step 1\n",
    "        x_p = self.transformer(x)  #preprocessing step 2\n",
    "        \n",
    "        return self.theta[0] + np.dot(x_p, self.theta[1:])\n",
    "    "
   ]
  },
  {
   "cell_type": "code",
   "execution_count": 5,
   "id": "4e85fd59",
   "metadata": {
    "execution": {
     "iopub.execute_input": "2021-08-06T20:04:17.895187Z",
     "iopub.status.busy": "2021-08-06T20:04:17.894383Z",
     "iopub.status.idle": "2021-08-06T20:04:18.366147Z",
     "shell.execute_reply": "2021-08-06T20:04:18.366692Z",
     "shell.execute_reply.started": "2021-08-06T20:02:41.807805Z"
    },
    "papermill": {
     "duration": 0.484299,
     "end_time": "2021-08-06T20:04:18.366896",
     "exception": false,
     "start_time": "2021-08-06T20:04:17.882597",
     "status": "completed"
    },
    "tags": []
   },
   "outputs": [
    {
     "data": {
      "text/plain": [
       "array([ 6.29982622,  1.65395136, -0.48209541])"
      ]
     },
     "execution_count": 5,
     "metadata": {},
     "output_type": "execute_result"
    }
   ],
   "source": [
    "plr = PolyLinearRegression()  # creating object lr using the class PolyLinearRegression()\n",
    "plr.fit(x_train, y_train)  #call the method fitGD()\n",
    "\n",
    "# show  thetas\n",
    "plr.theta"
   ]
  },
  {
   "cell_type": "code",
   "execution_count": 6,
   "id": "d24de1a3",
   "metadata": {
    "execution": {
     "iopub.execute_input": "2021-08-06T20:04:18.392793Z",
     "iopub.status.busy": "2021-08-06T20:04:18.392074Z",
     "iopub.status.idle": "2021-08-06T20:04:18.395213Z",
     "shell.execute_reply": "2021-08-06T20:04:18.395711Z",
     "shell.execute_reply.started": "2021-08-06T20:02:47.993639Z"
    },
    "papermill": {
     "duration": 0.019563,
     "end_time": "2021-08-06T20:04:18.395893",
     "exception": false,
     "start_time": "2021-08-06T20:04:18.376330",
     "status": "completed"
    },
    "tags": []
   },
   "outputs": [],
   "source": [
    "#predict the training examples\n",
    "y_pred_train_poly = plr.predict(x_train)\n",
    "y_pred_test_poly = plr.predict(x_test)\n",
    "\n",
    "#evaluate the learning model using training data\n",
    "mse_train = (1/x_train.shape[0]) * np.sum((y_pred_train_poly - y_train)**2)\n",
    "rmse_train = np.sqrt(mse_train)\n",
    "\n",
    "#evaluate the learning model using testing data\n",
    "mse_test = (1/x_test.shape[0]) * np.sum((y_pred_test_poly - y_test)**2)\n",
    "rmse_test = np.sqrt(mse_test)"
   ]
  },
  {
   "cell_type": "code",
   "execution_count": 7,
   "id": "e26f2393",
   "metadata": {
    "execution": {
     "iopub.execute_input": "2021-08-06T20:04:18.450525Z",
     "iopub.status.busy": "2021-08-06T20:04:18.441849Z",
     "iopub.status.idle": "2021-08-06T20:04:18.654791Z",
     "shell.execute_reply": "2021-08-06T20:04:18.655299Z",
     "shell.execute_reply.started": "2021-08-06T20:02:52.104380Z"
    },
    "papermill": {
     "duration": 0.249798,
     "end_time": "2021-08-06T20:04:18.655490",
     "exception": false,
     "start_time": "2021-08-06T20:04:18.405692",
     "status": "completed"
    },
    "tags": []
   },
   "outputs": [
    {
     "data": {
      "image/png": "[encoded data removed]",
      "text/plain": [
       "<Figure size 720x432 with 1 Axes>"
      ]
     },
     "metadata": {
      "needs_background": "light"
     },
     "output_type": "display_data"
    },
    {
     "name": "stdout",
     "output_type": "stream",
     "text": [
      "RMSE Train =  0.5012617237954055\n",
      "RMSE Test =  0.5841235962969943\n"
     ]
    }
   ],
   "source": [
    "#Plot the results:\n",
    "plt.figure(figsize=(10, 6))\n",
    "plt.scatter(x_train, y_train, label='Training points')\n",
    "plt.scatter(x_test, y_test, label='Testing points')\n",
    "plt.plot(x_train, y_pred_train_poly, label='Fitting Line')\n",
    "plt.legend(loc='upper left')\n",
    "plt.show()\n",
    "print (\"RMSE Train = \", rmse_train)\n",
    "print (\"RMSE Test = \", rmse_test)"
   ]
  }
 ],
 "metadata": {
  "kernelspec": {
   "display_name": "Python 3",
   "language": "python",
   "name": "python3"
  },
  "language_info": {
   "codemirror_mode": {
    "name": "ipython",
    "version": 3
   },
   "file_extension": ".py",
   "mimetype": "text/x-python",
   "name": "python",
   "nbconvert_exporter": "python",
   "pygments_lexer": "ipython3",
   "version": "3.7.10"
  },
  "papermill": {
   "default_parameters": {},
   "duration": 10.761177,
   "end_time": "2021-08-06T20:04:20.300191",
   "environment_variables": {},
   "exception": null,
   "input_path": "__notebook__.ipynb",
   "output_path": "__notebook__.ipynb",
   "parameters": {},
   "start_time": "2021-08-06T20:04:09.539014",
   "version": "2.3.3"
  }
 },
 "nbformat": 4,
 "nbformat_minor": 5
}
