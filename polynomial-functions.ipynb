{
 "cells": [
  {
   "cell_type": "code",
   "execution_count": 1,
   "id": "a540860e",
   "metadata": {
    "execution": {
     "iopub.execute_input": "2021-08-01T13:59:30.281747Z",
     "iopub.status.busy": "2021-08-01T13:59:30.281223Z",
     "iopub.status.idle": "2021-08-01T13:59:30.284246Z",
     "shell.execute_reply": "2021-08-01T13:59:30.283667Z",
     "shell.execute_reply.started": "2021-08-01T13:57:05.776074Z"
    },
    "papermill": {
     "duration": 0.026465,
     "end_time": "2021-08-01T13:59:30.284372",
     "exception": false,
     "start_time": "2021-08-01T13:59:30.257907",
     "status": "completed"
    },
    "tags": []
   },
   "outputs": [],
   "source": [
    "import numpy as np\n",
    "import pandas as pd\n",
    "import matplotlib.pyplot as plt"
   ]
  },
  {
   "cell_type": "code",
   "execution_count": 2,
   "id": "45a07524",
   "metadata": {
    "execution": {
     "iopub.execute_input": "2021-08-01T13:59:30.406424Z",
     "iopub.status.busy": "2021-08-01T13:59:30.405870Z",
     "iopub.status.idle": "2021-08-01T13:59:30.562446Z",
     "shell.execute_reply": "2021-08-01T13:59:30.561780Z",
     "shell.execute_reply.started": "2021-08-01T13:57:13.620606Z"
    },
    "papermill": {
     "duration": 0.263806,
     "end_time": "2021-08-01T13:59:30.562584",
     "exception": false,
     "start_time": "2021-08-01T13:59:30.298778",
     "status": "completed"
    },
    "scrolled": true,
    "tags": []
   },
   "outputs": [
    {
     "name": "stdout",
     "output_type": "stream",
     "text": [
      "x shape =  (10,)\n",
      "y shape =  (10,)\n"
     ]
    },
    {
     "data": {
      "image/png": "[encoded data removed]",
      "text/plain": [
       "<Figure size 576x288 with 1 Axes>"
      ]
     },
     "metadata": {
      "needs_background": "light"
     },
     "output_type": "display_data"
    }
   ],
   "source": [
    "#create dataset\n",
    "x = np.array([1, 1.5, 2, 3, 4, 5, 6, 7, 8, 9])\n",
    "y = np.array([3, 3.5, 4.5, 6, 6.5, 6.8, 6.9, 7, 7, 7])\n",
    "print (\"x shape = \",x.shape)\n",
    "print (\"y shape = \",y.shape)\n",
    "\n",
    "#plot the data points\n",
    "plt.figure(figsize=(8, 4))\n",
    "plt.scatter(x,y)\n",
    "plt.show()"
   ]
  },
  {
   "cell_type": "code",
   "execution_count": 3,
   "id": "ba9dc0e0",
   "metadata": {
    "execution": {
     "iopub.execute_input": "2021-08-01T13:59:30.593933Z",
     "iopub.status.busy": "2021-08-01T13:59:30.593404Z",
     "iopub.status.idle": "2021-08-01T13:59:30.596254Z",
     "shell.execute_reply": "2021-08-01T13:59:30.597009Z",
     "shell.execute_reply.started": "2021-08-01T13:57:24.600713Z"
    },
    "papermill": {
     "duration": 0.020275,
     "end_time": "2021-08-01T13:59:30.597231",
     "exception": false,
     "start_time": "2021-08-01T13:59:30.576956",
     "status": "completed"
    },
    "tags": []
   },
   "outputs": [
    {
     "name": "stdout",
     "output_type": "stream",
     "text": [
      "x shape =  (10, 1)\n"
     ]
    }
   ],
   "source": [
    "#convert the features vector into a column vector\n",
    "x = x.reshape(-1,1) \n",
    "print (\"x shape = \",x.shape)"
   ]
  },
  {
   "cell_type": "code",
   "execution_count": 4,
   "id": "06c52596",
   "metadata": {
    "execution": {
     "iopub.execute_input": "2021-08-01T13:59:30.630665Z",
     "iopub.status.busy": "2021-08-01T13:59:30.630143Z",
     "iopub.status.idle": "2021-08-01T13:59:30.632553Z",
     "shell.execute_reply": "2021-08-01T13:59:30.633066Z",
     "shell.execute_reply.started": "2021-08-01T13:57:28.095232Z"
    },
    "papermill": {
     "duration": 0.02028,
     "end_time": "2021-08-01T13:59:30.633183",
     "exception": false,
     "start_time": "2021-08-01T13:59:30.612903",
     "status": "completed"
    },
    "tags": []
   },
   "outputs": [
    {
     "data": {
      "text/plain": [
       "array([[1. ],\n",
       "       [1.5],\n",
       "       [2. ],\n",
       "       [3. ],\n",
       "       [4. ],\n",
       "       [5. ],\n",
       "       [6. ],\n",
       "       [7. ],\n",
       "       [8. ],\n",
       "       [9. ]])"
      ]
     },
     "execution_count": 4,
     "metadata": {},
     "output_type": "execute_result"
    }
   ],
   "source": [
    "x"
   ]
  },
  {
   "cell_type": "code",
   "execution_count": 5,
   "id": "701e8054",
   "metadata": {
    "execution": {
     "iopub.execute_input": "2021-08-01T13:59:30.670028Z",
     "iopub.status.busy": "2021-08-01T13:59:30.669500Z",
     "iopub.status.idle": "2021-08-01T13:59:30.671554Z",
     "shell.execute_reply": "2021-08-01T13:59:30.671066Z",
     "shell.execute_reply.started": "2021-08-01T13:57:36.542230Z"
    },
    "papermill": {
     "duration": 0.024493,
     "end_time": "2021-08-01T13:59:30.671654",
     "exception": false,
     "start_time": "2021-08-01T13:59:30.647161",
     "status": "completed"
    },
    "tags": []
   },
   "outputs": [],
   "source": [
    "class LinearRegression:\n",
    "    \n",
    "    def __init__(self, l_rate=0.001, iterations=10000):  \n",
    "        self.l_rate = l_rate  \n",
    "        self.iterations = iterations\n",
    "        \n",
    "    def scale(self, x):  #features scaling using z-score\n",
    "        x_scaled = x - np.mean(x, axis=0)\n",
    "        x_scaled = x_scaled / np.std(x_scaled, axis=0)\n",
    "        return x_scaled\n",
    "\n",
    "    def fit(self, x, y): \n",
    "        self.cost = []  \n",
    "        self.theta = np.zeros((1 + x.shape[1])) \n",
    "        n = x.shape[0]  \n",
    "        \n",
    "        x = self.scale(x) #preprocessing step\n",
    "        \n",
    "        for i in range(self.iterations):\n",
    "            y_pred = self.theta[0] + np.dot(x, self.theta[1:])  \n",
    "            mse = (1/n) * np.sum((y_pred - y)**2)\n",
    "            self.cost.append(mse) \n",
    "            \n",
    "            #Derivatives\n",
    "            d_theta1 = (2/n) * np.dot(x.T, (y_pred - y))\n",
    "            d_theta0 = (2/n) * np.sum(y_pred - y)\n",
    "            \n",
    "            #Values update\n",
    "            self.theta[1:] = self.theta[1:] - self.l_rate * d_theta1\n",
    "            self.theta[0] = self.theta[0] - self.l_rate * d_theta0                       \n",
    "        return self    \n",
    "    \n",
    "    def predict(self, x):\n",
    "        \n",
    "        x = self.scale(x)  #preprocessing step\n",
    "        \n",
    "        return self.theta[0] + np.dot(x, self.theta[1:])"
   ]
  },
  {
   "cell_type": "code",
   "execution_count": 6,
   "id": "72d0ca24",
   "metadata": {
    "execution": {
     "iopub.execute_input": "2021-08-01T13:59:30.705873Z",
     "iopub.status.busy": "2021-08-01T13:59:30.705370Z",
     "iopub.status.idle": "2021-08-01T13:59:30.987104Z",
     "shell.execute_reply": "2021-08-01T13:59:30.988142Z",
     "shell.execute_reply.started": "2021-08-01T13:57:42.886215Z"
    },
    "papermill": {
     "duration": 0.302533,
     "end_time": "2021-08-01T13:59:30.988293",
     "exception": false,
     "start_time": "2021-08-01T13:59:30.685760",
     "status": "completed"
    },
    "tags": []
   },
   "outputs": [
    {
     "data": {
      "text/plain": [
       "<__main__.LinearRegression at 0x7ffacb2bfe90>"
      ]
     },
     "execution_count": 6,
     "metadata": {},
     "output_type": "execute_result"
    }
   ],
   "source": [
    "#Fitting data points using linear function\n",
    "lr = LinearRegression()  \n",
    "lr.fit(x, y) "
   ]
  },
  {
   "cell_type": "code",
   "execution_count": 7,
   "id": "8e9dae47",
   "metadata": {
    "execution": {
     "iopub.execute_input": "2021-08-01T13:59:31.020438Z",
     "iopub.status.busy": "2021-08-01T13:59:31.019946Z",
     "iopub.status.idle": "2021-08-01T13:59:31.023887Z",
     "shell.execute_reply": "2021-08-01T13:59:31.024295Z",
     "shell.execute_reply.started": "2021-08-01T13:57:47.980702Z"
    },
    "papermill": {
     "duration": 0.020542,
     "end_time": "2021-08-01T13:59:31.024417",
     "exception": false,
     "start_time": "2021-08-01T13:59:31.003875",
     "status": "completed"
    },
    "tags": []
   },
   "outputs": [
    {
     "data": {
      "text/plain": [
       "array([5.81999999, 1.27652313])"
      ]
     },
     "execution_count": 7,
     "metadata": {},
     "output_type": "execute_result"
    }
   ],
   "source": [
    "# show thetas\n",
    "lr.theta"
   ]
  },
  {
   "cell_type": "code",
   "execution_count": 8,
   "id": "2f69c890",
   "metadata": {
    "execution": {
     "iopub.execute_input": "2021-08-01T13:59:31.056047Z",
     "iopub.status.busy": "2021-08-01T13:59:31.055519Z",
     "iopub.status.idle": "2021-08-01T13:59:31.058411Z",
     "shell.execute_reply": "2021-08-01T13:59:31.058935Z",
     "shell.execute_reply.started": "2021-08-01T13:57:50.667902Z"
    },
    "papermill": {
     "duration": 0.020013,
     "end_time": "2021-08-01T13:59:31.059056",
     "exception": false,
     "start_time": "2021-08-01T13:59:31.039043",
     "status": "completed"
    },
    "tags": []
   },
   "outputs": [],
   "source": [
    "#predict the training examples through Linear function\n",
    "y_pred = lr.predict(x)"
   ]
  },
  {
   "cell_type": "code",
   "execution_count": 9,
   "id": "0beb6008",
   "metadata": {
    "execution": {
     "iopub.execute_input": "2021-08-01T13:59:31.090637Z",
     "iopub.status.busy": "2021-08-01T13:59:31.090173Z",
     "iopub.status.idle": "2021-08-01T13:59:31.093724Z",
     "shell.execute_reply": "2021-08-01T13:59:31.094173Z",
     "shell.execute_reply.started": "2021-08-01T13:57:54.413390Z"
    },
    "papermill": {
     "duration": 0.02024,
     "end_time": "2021-08-01T13:59:31.094291",
     "exception": false,
     "start_time": "2021-08-01T13:59:31.074051",
     "status": "completed"
    },
    "tags": []
   },
   "outputs": [],
   "source": [
    "#compute root mean square errors\n",
    "mse = (1/x.shape[0]) * np.sum((y_pred - y)**2)\n",
    "rmse = np.sqrt(mse)"
   ]
  },
  {
   "cell_type": "code",
   "execution_count": 10,
   "id": "244585a0",
   "metadata": {
    "execution": {
     "iopub.execute_input": "2021-08-01T13:59:31.125611Z",
     "iopub.status.busy": "2021-08-01T13:59:31.125140Z",
     "iopub.status.idle": "2021-08-01T13:59:31.266441Z",
     "shell.execute_reply": "2021-08-01T13:59:31.266006Z",
     "shell.execute_reply.started": "2021-08-01T13:57:57.715262Z"
    },
    "papermill": {
     "duration": 0.157459,
     "end_time": "2021-08-01T13:59:31.266552",
     "exception": false,
     "start_time": "2021-08-01T13:59:31.109093",
     "status": "completed"
    },
    "tags": []
   },
   "outputs": [
    {
     "data": {
      "image/png": "[encoded data removed]",
      "text/plain": [
       "<Figure size 576x288 with 1 Axes>"
      ]
     },
     "metadata": {
      "needs_background": "light"
     },
     "output_type": "display_data"
    },
    {
     "name": "stdout",
     "output_type": "stream",
     "text": [
      "RMSE =  0.7470533455929121\n"
     ]
    }
   ],
   "source": [
    "#Plot the results:\n",
    "plt.figure(figsize=(8, 4))\n",
    "plt.scatter(x, y, label='Training points')\n",
    "plt.plot(x, y_pred, label='Fitting Line')\n",
    "plt.legend(loc='upper left')\n",
    "plt.show()\n",
    "print (\"RMSE = \",rmse)"
   ]
  },
  {
   "attachments": {
    "polynomial.png": {
     "image/png": "[encoded data removed]"
    }
   },
   "cell_type": "markdown",
   "id": "4ffefa13",
   "metadata": {
    "papermill": {
     "duration": 0.015516,
     "end_time": "2021-08-01T13:59:31.297818",
     "exception": false,
     "start_time": "2021-08-01T13:59:31.282302",
     "status": "completed"
    },
    "tags": []
   },
   "source": [
    "![polynomial.png](attachment:polynomial.png)\n"
   ]
  },
  {
   "cell_type": "code",
   "execution_count": 11,
   "id": "a686161d",
   "metadata": {
    "execution": {
     "iopub.execute_input": "2021-08-01T13:59:31.340867Z",
     "iopub.status.busy": "2021-08-01T13:59:31.340288Z",
     "iopub.status.idle": "2021-08-01T13:59:31.342372Z",
     "shell.execute_reply": "2021-08-01T13:59:31.342757Z",
     "shell.execute_reply.started": "2021-08-01T13:58:16.233984Z"
    },
    "papermill": {
     "duration": 0.02951,
     "end_time": "2021-08-01T13:59:31.342908",
     "exception": false,
     "start_time": "2021-08-01T13:59:31.313398",
     "status": "completed"
    },
    "tags": []
   },
   "outputs": [],
   "source": [
    "#Bulding a class for Polynomial Linear Regression Using Gradient Descent.\n",
    "class PolyLinearRegression:\n",
    "    \n",
    "    def __init__(self, l_rate=0.001, iterations=10000, degree=2):  \n",
    "        self.l_rate = l_rate  \n",
    "        self.iterations = iterations  \n",
    "        self.degree = degree  #degree of polynomial features\n",
    "    \n",
    "    def scale(self, x):  #features scaling using z-score\n",
    "        x_scaled = x - np.mean(x, axis=0)\n",
    "        x_scaled = x_scaled / np.std(x_scaled, axis=0)\n",
    "        return x_scaled\n",
    "      \n",
    "    def transformer(self, x ): #Transform data to polynomial features\n",
    "        self.n = x.shape[0]  #number of training examples\n",
    "        \n",
    "        x_transformed = np.empty((self.n, 0))  #empty 2d-array\n",
    "        \n",
    "        for j in range( self.degree + 1 ) :\n",
    "            if j != 0 :\n",
    "                x_power = np.power( x, j )  #compute x to the power j\n",
    "                x_transformed = np.append( x_transformed, x_power, axis = 1 ) #fill the aary with x_power as column vectors\n",
    "        return x_transformed \n",
    "\n",
    "    def fit(self, x, y):  \n",
    "        self.cost = []  \n",
    "        self.theta = np.zeros((1 + self.degree)) # 1d array\n",
    "        \n",
    "        x = self.scale(x)  #preprocessing step 1\n",
    "        x_p = self.transformer(x)  ##preprocessing step 2\n",
    "        \n",
    "        for i in range(self.iterations):\n",
    "            y_pred = self.theta[0] + np.dot(x_p, self.theta[1:])  \n",
    "            mse = (1/self.n) * np.sum((y_pred - y)**2)  \n",
    "            self.cost.append(mse)  \n",
    "            \n",
    "            #Derivatives\n",
    "            d_theta1 = (2/self.n) * np.dot(x_p.T, (y_pred - y)) \n",
    "            d_theta0 = (2/self.n) * np.sum(y_pred - y)\n",
    "            \n",
    "            #Values update\n",
    "            self.theta[1:] = self.theta[1:] - self.l_rate * d_theta1\n",
    "            self.theta[0] = self.theta[0] - self.l_rate * d_theta0                       \n",
    "        return self\n",
    "    \n",
    "    \n",
    "    def predict(self, x):  \n",
    "        \n",
    "        x = self.scale(x)  #preprocessing step 1\n",
    "        x_p = self.transformer(x)  #preprocessing step 2\n",
    "        \n",
    "        return self.theta[0] + np.dot(x_p, self.theta[1:])\n",
    "    "
   ]
  },
  {
   "cell_type": "code",
   "execution_count": 12,
   "id": "c9dfff89",
   "metadata": {
    "execution": {
     "iopub.execute_input": "2021-08-01T13:59:31.378634Z",
     "iopub.status.busy": "2021-08-01T13:59:31.377478Z",
     "iopub.status.idle": "2021-08-01T13:59:31.685718Z",
     "shell.execute_reply": "2021-08-01T13:59:31.686133Z",
     "shell.execute_reply.started": "2021-08-01T13:58:23.538036Z"
    },
    "papermill": {
     "duration": 0.327854,
     "end_time": "2021-08-01T13:59:31.686284",
     "exception": false,
     "start_time": "2021-08-01T13:59:31.358430",
     "status": "completed"
    },
    "tags": []
   },
   "outputs": [
    {
     "data": {
      "text/plain": [
       "<__main__.PolyLinearRegression at 0x7ffacb1b0b10>"
      ]
     },
     "execution_count": 12,
     "metadata": {},
     "output_type": "execute_result"
    }
   ],
   "source": [
    "#Fitting data points using Polynomial function\n",
    "plr = PolyLinearRegression()  \n",
    "plr.fit(x, y) "
   ]
  },
  {
   "cell_type": "code",
   "execution_count": 13,
   "id": "a8f60d28",
   "metadata": {
    "execution": {
     "iopub.execute_input": "2021-08-01T13:59:31.723486Z",
     "iopub.status.busy": "2021-08-01T13:59:31.722999Z",
     "iopub.status.idle": "2021-08-01T13:59:31.725960Z",
     "shell.execute_reply": "2021-08-01T13:59:31.726420Z",
     "shell.execute_reply.started": "2021-08-01T13:58:27.057774Z"
    },
    "papermill": {
     "duration": 0.024126,
     "end_time": "2021-08-01T13:59:31.726547",
     "exception": false,
     "start_time": "2021-08-01T13:59:31.702421",
     "status": "completed"
    },
    "tags": []
   },
   "outputs": [
    {
     "data": {
      "text/plain": [
       "array([[ 1.  ,  1.  ],\n",
       "       [ 1.5 ,  2.25],\n",
       "       [ 2.  ,  4.  ],\n",
       "       [ 3.  ,  9.  ],\n",
       "       [ 4.  , 16.  ],\n",
       "       [ 5.  , 25.  ],\n",
       "       [ 6.  , 36.  ],\n",
       "       [ 7.  , 49.  ],\n",
       "       [ 8.  , 64.  ],\n",
       "       [ 9.  , 81.  ]])"
      ]
     },
     "execution_count": 13,
     "metadata": {},
     "output_type": "execute_result"
    }
   ],
   "source": [
    "plr.transformer(x)"
   ]
  },
  {
   "cell_type": "code",
   "execution_count": 14,
   "id": "4f41a278",
   "metadata": {
    "execution": {
     "iopub.execute_input": "2021-08-01T13:59:31.762103Z",
     "iopub.status.busy": "2021-08-01T13:59:31.761583Z",
     "iopub.status.idle": "2021-08-01T13:59:31.766380Z",
     "shell.execute_reply": "2021-08-01T13:59:31.765986Z",
     "shell.execute_reply.started": "2021-08-01T13:58:29.999984Z"
    },
    "papermill": {
     "duration": 0.022741,
     "end_time": "2021-08-01T13:59:31.766483",
     "exception": false,
     "start_time": "2021-08-01T13:59:31.743742",
     "status": "completed"
    },
    "tags": []
   },
   "outputs": [
    {
     "data": {
      "text/plain": [
       "array([ 6.66199129,  1.41944591, -0.84766709])"
      ]
     },
     "execution_count": 14,
     "metadata": {},
     "output_type": "execute_result"
    }
   ],
   "source": [
    "# show thetas\n",
    "plr.theta"
   ]
  },
  {
   "cell_type": "code",
   "execution_count": 15,
   "id": "8a0cc855",
   "metadata": {
    "execution": {
     "iopub.execute_input": "2021-08-01T13:59:31.802317Z",
     "iopub.status.busy": "2021-08-01T13:59:31.801819Z",
     "iopub.status.idle": "2021-08-01T13:59:31.803562Z",
     "shell.execute_reply": "2021-08-01T13:59:31.804093Z",
     "shell.execute_reply.started": "2021-08-01T13:58:33.698634Z"
    },
    "papermill": {
     "duration": 0.021502,
     "end_time": "2021-08-01T13:59:31.804236",
     "exception": false,
     "start_time": "2021-08-01T13:59:31.782734",
     "status": "completed"
    },
    "tags": []
   },
   "outputs": [],
   "source": [
    "#predict the training examples through polynomial function\n",
    "y_pred_poly = plr.predict(x)"
   ]
  },
  {
   "cell_type": "code",
   "execution_count": 16,
   "id": "8edd7de2",
   "metadata": {
    "execution": {
     "iopub.execute_input": "2021-08-01T13:59:31.838856Z",
     "iopub.status.busy": "2021-08-01T13:59:31.838337Z",
     "iopub.status.idle": "2021-08-01T13:59:31.842003Z",
     "shell.execute_reply": "2021-08-01T13:59:31.841546Z",
     "shell.execute_reply.started": "2021-08-01T13:58:37.456044Z"
    },
    "papermill": {
     "duration": 0.021569,
     "end_time": "2021-08-01T13:59:31.842109",
     "exception": false,
     "start_time": "2021-08-01T13:59:31.820540",
     "status": "completed"
    },
    "tags": []
   },
   "outputs": [],
   "source": [
    "#compute root mean square errors\n",
    "mse = (1/x.shape[0]) * np.sum((y_pred_poly - y)**2)\n",
    "rmse = np.sqrt(mse)"
   ]
  },
  {
   "cell_type": "code",
   "execution_count": 17,
   "id": "2384b9d0",
   "metadata": {
    "execution": {
     "iopub.execute_input": "2021-08-01T13:59:31.897440Z",
     "iopub.status.busy": "2021-08-01T13:59:31.896615Z",
     "iopub.status.idle": "2021-08-01T13:59:32.030442Z",
     "shell.execute_reply": "2021-08-01T13:59:32.029997Z",
     "shell.execute_reply.started": "2021-08-01T13:58:40.004635Z"
    },
    "papermill": {
     "duration": 0.17217,
     "end_time": "2021-08-01T13:59:32.030565",
     "exception": false,
     "start_time": "2021-08-01T13:59:31.858395",
     "status": "completed"
    },
    "tags": []
   },
   "outputs": [
    {
     "data": {
      "image/png": "[encoded data removed]",
      "text/plain": [
       "<Figure size 576x288 with 1 Axes>"
      ]
     },
     "metadata": {
      "needs_background": "light"
     },
     "output_type": "display_data"
    },
    {
     "name": "stdout",
     "output_type": "stream",
     "text": [
      "RMSE =  0.26220198490642377\n"
     ]
    }
   ],
   "source": [
    "#Plot the results:\n",
    "plt.figure(figsize=(8, 4))\n",
    "plt.scatter(x, y, label='training points')\n",
    "plt.plot(x, y_pred_poly, label='Fitting Line')\n",
    "plt.legend(loc='upper left')\n",
    "plt.show()\n",
    "print (\"RMSE = \",rmse)"
   ]
  }
 ],
 "metadata": {
  "kernelspec": {
   "display_name": "Python 3",
   "language": "python",
   "name": "python3"
  },
  "language_info": {
   "codemirror_mode": {
    "name": "ipython",
    "version": 3
   },
   "file_extension": ".py",
   "mimetype": "text/x-python",
   "name": "python",
   "nbconvert_exporter": "python",
   "pygments_lexer": "ipython3",
   "version": "3.7.10"
  },
  "papermill": {
   "default_parameters": {},
   "duration": 9.607729,
   "end_time": "2021-08-01T13:59:33.394954",
   "environment_variables": {},
   "exception": null,
   "input_path": "__notebook__.ipynb",
   "output_path": "__notebook__.ipynb",
   "parameters": {},
   "start_time": "2021-08-01T13:59:23.787225",
   "version": "2.3.3"
  }
 },
 "nbformat": 4,
 "nbformat_minor": 5
}
